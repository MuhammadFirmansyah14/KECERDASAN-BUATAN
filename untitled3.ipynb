{
  "nbformat": 4,
  "nbformat_minor": 0,
  "metadata": {
    "colab": {
      "provenance": [],
      "authorship_tag": "ABX9TyM2idjIJM8yTA4ZfnAlJegF",
      "include_colab_link": true
    },
    "kernelspec": {
      "name": "python3",
      "display_name": "Python 3"
    },
    "language_info": {
      "name": "python"
    }
  },
  "cells": [
    {
      "cell_type": "markdown",
      "metadata": {
        "id": "view-in-github",
        "colab_type": "text"
      },
      "source": [
        "<a href=\"https://colab.research.google.com/github/MuhammadFirmansyah14/KECERDASAN-BUATAN/blob/main/untitled3.ipynb\" target=\"_parent\"><img src=\"https://colab.research.google.com/assets/colab-badge.svg\" alt=\"Open In Colab\"/></a>"
      ]
    },
    {
      "cell_type": "code",
      "execution_count": null,
      "metadata": {
        "colab": {
          "base_uri": "https://localhost:8080/",
          "height": 1000
        },
        "id": "s7JKXfVSPRe_",
        "outputId": "c235ff18-263f-45e4-ac48-aab58c48633c"
      },
      "outputs": [
        {
          "output_type": "stream",
          "name": "stderr",
          "text": [
            "/usr/local/lib/python3.11/dist-packages/keras/src/layers/core/embedding.py:90: UserWarning: Argument `input_length` is deprecated. Just remove it.\n",
            "  warnings.warn(\n"
          ]
        },
        {
          "output_type": "display_data",
          "data": {
            "text/plain": [
              "\u001b[1mModel: \"sequential\"\u001b[0m\n"
            ],
            "text/html": [
              "<pre style=\"white-space:pre;overflow-x:auto;line-height:normal;font-family:Menlo,'DejaVu Sans Mono',consolas,'Courier New',monospace\"><span style=\"font-weight: bold\">Model: \"sequential\"</span>\n",
              "</pre>\n"
            ]
          },
          "metadata": {}
        },
        {
          "output_type": "display_data",
          "data": {
            "text/plain": [
              "┏━━━━━━━━━━━━━━━━━━━━━━━━━━━━━━━━━┳━━━━━━━━━━━━━━━━━━━━━━━━┳━━━━━━━━━━━━━━━┓\n",
              "┃\u001b[1m \u001b[0m\u001b[1mLayer (type)                   \u001b[0m\u001b[1m \u001b[0m┃\u001b[1m \u001b[0m\u001b[1mOutput Shape          \u001b[0m\u001b[1m \u001b[0m┃\u001b[1m \u001b[0m\u001b[1m      Param #\u001b[0m\u001b[1m \u001b[0m┃\n",
              "┡━━━━━━━━━━━━━━━━━━━━━━━━━━━━━━━━━╇━━━━━━━━━━━━━━━━━━━━━━━━╇━━━━━━━━━━━━━━━┩\n",
              "│ embedding (\u001b[38;5;33mEmbedding\u001b[0m)           │ ?                      │   \u001b[38;5;34m0\u001b[0m (unbuilt) │\n",
              "├─────────────────────────────────┼────────────────────────┼───────────────┤\n",
              "│ conv1d (\u001b[38;5;33mConv1D\u001b[0m)                 │ ?                      │   \u001b[38;5;34m0\u001b[0m (unbuilt) │\n",
              "├─────────────────────────────────┼────────────────────────┼───────────────┤\n",
              "│ global_max_pooling1d            │ ?                      │             \u001b[38;5;34m0\u001b[0m │\n",
              "│ (\u001b[38;5;33mGlobalMaxPooling1D\u001b[0m)            │                        │               │\n",
              "├─────────────────────────────────┼────────────────────────┼───────────────┤\n",
              "│ dropout (\u001b[38;5;33mDropout\u001b[0m)               │ ?                      │             \u001b[38;5;34m0\u001b[0m │\n",
              "├─────────────────────────────────┼────────────────────────┼───────────────┤\n",
              "│ dense (\u001b[38;5;33mDense\u001b[0m)                   │ ?                      │   \u001b[38;5;34m0\u001b[0m (unbuilt) │\n",
              "├─────────────────────────────────┼────────────────────────┼───────────────┤\n",
              "│ dense_1 (\u001b[38;5;33mDense\u001b[0m)                 │ ?                      │   \u001b[38;5;34m0\u001b[0m (unbuilt) │\n",
              "└─────────────────────────────────┴────────────────────────┴───────────────┘\n"
            ],
            "text/html": [
              "<pre style=\"white-space:pre;overflow-x:auto;line-height:normal;font-family:Menlo,'DejaVu Sans Mono',consolas,'Courier New',monospace\">┏━━━━━━━━━━━━━━━━━━━━━━━━━━━━━━━━━┳━━━━━━━━━━━━━━━━━━━━━━━━┳━━━━━━━━━━━━━━━┓\n",
              "┃<span style=\"font-weight: bold\"> Layer (type)                    </span>┃<span style=\"font-weight: bold\"> Output Shape           </span>┃<span style=\"font-weight: bold\">       Param # </span>┃\n",
              "┡━━━━━━━━━━━━━━━━━━━━━━━━━━━━━━━━━╇━━━━━━━━━━━━━━━━━━━━━━━━╇━━━━━━━━━━━━━━━┩\n",
              "│ embedding (<span style=\"color: #0087ff; text-decoration-color: #0087ff\">Embedding</span>)           │ ?                      │   <span style=\"color: #00af00; text-decoration-color: #00af00\">0</span> (unbuilt) │\n",
              "├─────────────────────────────────┼────────────────────────┼───────────────┤\n",
              "│ conv1d (<span style=\"color: #0087ff; text-decoration-color: #0087ff\">Conv1D</span>)                 │ ?                      │   <span style=\"color: #00af00; text-decoration-color: #00af00\">0</span> (unbuilt) │\n",
              "├─────────────────────────────────┼────────────────────────┼───────────────┤\n",
              "│ global_max_pooling1d            │ ?                      │             <span style=\"color: #00af00; text-decoration-color: #00af00\">0</span> │\n",
              "│ (<span style=\"color: #0087ff; text-decoration-color: #0087ff\">GlobalMaxPooling1D</span>)            │                        │               │\n",
              "├─────────────────────────────────┼────────────────────────┼───────────────┤\n",
              "│ dropout (<span style=\"color: #0087ff; text-decoration-color: #0087ff\">Dropout</span>)               │ ?                      │             <span style=\"color: #00af00; text-decoration-color: #00af00\">0</span> │\n",
              "├─────────────────────────────────┼────────────────────────┼───────────────┤\n",
              "│ dense (<span style=\"color: #0087ff; text-decoration-color: #0087ff\">Dense</span>)                   │ ?                      │   <span style=\"color: #00af00; text-decoration-color: #00af00\">0</span> (unbuilt) │\n",
              "├─────────────────────────────────┼────────────────────────┼───────────────┤\n",
              "│ dense_1 (<span style=\"color: #0087ff; text-decoration-color: #0087ff\">Dense</span>)                 │ ?                      │   <span style=\"color: #00af00; text-decoration-color: #00af00\">0</span> (unbuilt) │\n",
              "└─────────────────────────────────┴────────────────────────┴───────────────┘\n",
              "</pre>\n"
            ]
          },
          "metadata": {}
        },
        {
          "output_type": "display_data",
          "data": {
            "text/plain": [
              "\u001b[1m Total params: \u001b[0m\u001b[38;5;34m0\u001b[0m (0.00 B)\n"
            ],
            "text/html": [
              "<pre style=\"white-space:pre;overflow-x:auto;line-height:normal;font-family:Menlo,'DejaVu Sans Mono',consolas,'Courier New',monospace\"><span style=\"font-weight: bold\"> Total params: </span><span style=\"color: #00af00; text-decoration-color: #00af00\">0</span> (0.00 B)\n",
              "</pre>\n"
            ]
          },
          "metadata": {}
        },
        {
          "output_type": "display_data",
          "data": {
            "text/plain": [
              "\u001b[1m Trainable params: \u001b[0m\u001b[38;5;34m0\u001b[0m (0.00 B)\n"
            ],
            "text/html": [
              "<pre style=\"white-space:pre;overflow-x:auto;line-height:normal;font-family:Menlo,'DejaVu Sans Mono',consolas,'Courier New',monospace\"><span style=\"font-weight: bold\"> Trainable params: </span><span style=\"color: #00af00; text-decoration-color: #00af00\">0</span> (0.00 B)\n",
              "</pre>\n"
            ]
          },
          "metadata": {}
        },
        {
          "output_type": "display_data",
          "data": {
            "text/plain": [
              "\u001b[1m Non-trainable params: \u001b[0m\u001b[38;5;34m0\u001b[0m (0.00 B)\n"
            ],
            "text/html": [
              "<pre style=\"white-space:pre;overflow-x:auto;line-height:normal;font-family:Menlo,'DejaVu Sans Mono',consolas,'Courier New',monospace\"><span style=\"font-weight: bold\"> Non-trainable params: </span><span style=\"color: #00af00; text-decoration-color: #00af00\">0</span> (0.00 B)\n",
              "</pre>\n"
            ]
          },
          "metadata": {}
        },
        {
          "output_type": "stream",
          "name": "stdout",
          "text": [
            "Epoch 1/20\n",
            "4/4 - 5s - 1s/step - accuracy: 0.4286 - loss: 0.6945 - val_accuracy: 0.6000 - val_loss: 0.6877\n",
            "Epoch 2/20\n",
            "4/4 - 0s - 41ms/step - accuracy: 0.7143 - loss: 0.6758 - val_accuracy: 0.6000 - val_loss: 0.6858\n",
            "Epoch 3/20\n",
            "4/4 - 0s - 69ms/step - accuracy: 0.4286 - loss: 0.6758 - val_accuracy: 0.6000 - val_loss: 0.6878\n",
            "Epoch 4/20\n",
            "4/4 - 0s - 64ms/step - accuracy: 0.7857 - loss: 0.6607 - val_accuracy: 0.6000 - val_loss: 0.6867\n",
            "Epoch 5/20\n",
            "4/4 - 0s - 26ms/step - accuracy: 1.0000 - loss: 0.6419 - val_accuracy: 0.6000 - val_loss: 0.6866\n",
            "Epoch 6/20\n",
            "4/4 - 0s - 44ms/step - accuracy: 1.0000 - loss: 0.6211 - val_accuracy: 0.6000 - val_loss: 0.6861\n",
            "Epoch 7/20\n",
            "4/4 - 0s - 24ms/step - accuracy: 1.0000 - loss: 0.5948 - val_accuracy: 0.6000 - val_loss: 0.6861\n",
            "Epoch 8/20\n",
            "4/4 - 0s - 38ms/step - accuracy: 1.0000 - loss: 0.5940 - val_accuracy: 0.6000 - val_loss: 0.6868\n",
            "Epoch 9/20\n",
            "4/4 - 0s - 36ms/step - accuracy: 1.0000 - loss: 0.5658 - val_accuracy: 0.6000 - val_loss: 0.6856\n",
            "Epoch 10/20\n",
            "4/4 - 0s - 36ms/step - accuracy: 1.0000 - loss: 0.5551 - val_accuracy: 0.6000 - val_loss: 0.6854\n",
            "Epoch 11/20\n",
            "4/4 - 0s - 30ms/step - accuracy: 1.0000 - loss: 0.5134 - val_accuracy: 0.6000 - val_loss: 0.6873\n",
            "Epoch 12/20\n",
            "4/4 - 0s - 35ms/step - accuracy: 1.0000 - loss: 0.5070 - val_accuracy: 0.6000 - val_loss: 0.6875\n",
            "Epoch 13/20\n",
            "4/4 - 0s - 30ms/step - accuracy: 1.0000 - loss: 0.4681 - val_accuracy: 0.8000 - val_loss: 0.6868\n",
            "Epoch 14/20\n",
            "4/4 - 0s - 34ms/step - accuracy: 1.0000 - loss: 0.4155 - val_accuracy: 0.8000 - val_loss: 0.6849\n",
            "Epoch 15/20\n",
            "4/4 - 0s - 38ms/step - accuracy: 1.0000 - loss: 0.3819 - val_accuracy: 0.8000 - val_loss: 0.6826\n",
            "Epoch 16/20\n",
            "4/4 - 0s - 36ms/step - accuracy: 1.0000 - loss: 0.3358 - val_accuracy: 0.8000 - val_loss: 0.6782\n",
            "Epoch 17/20\n",
            "4/4 - 0s - 33ms/step - accuracy: 1.0000 - loss: 0.3308 - val_accuracy: 0.8000 - val_loss: 0.6757\n",
            "Epoch 18/20\n",
            "4/4 - 0s - 29ms/step - accuracy: 1.0000 - loss: 0.2750 - val_accuracy: 0.8000 - val_loss: 0.6723\n",
            "Epoch 19/20\n",
            "4/4 - 0s - 35ms/step - accuracy: 1.0000 - loss: 0.2175 - val_accuracy: 0.8000 - val_loss: 0.6703\n",
            "Epoch 20/20\n",
            "4/4 - 0s - 29ms/step - accuracy: 1.0000 - loss: 0.1673 - val_accuracy: 0.8000 - val_loss: 0.6694\n",
            "\n",
            "— Evaluasi Test Set —\n",
            "Akurasi : 0.400\n",
            "\u001b[1m1/1\u001b[0m \u001b[32m━━━━━━━━━━━━━━━━━━━━\u001b[0m\u001b[37m\u001b[0m \u001b[1m0s\u001b[0m 108ms/step\n",
            "              precision    recall  f1-score   support\n",
            "\n",
            "        Hoax       0.00      0.00      0.00         3\n",
            "       Valid       0.40      1.00      0.57         2\n",
            "\n",
            "    accuracy                           0.40         5\n",
            "   macro avg       0.20      0.50      0.29         5\n",
            "weighted avg       0.16      0.40      0.23         5\n",
            "\n"
          ]
        },
        {
          "output_type": "stream",
          "name": "stderr",
          "text": [
            "/usr/local/lib/python3.11/dist-packages/sklearn/metrics/_classification.py:1565: UndefinedMetricWarning: Precision is ill-defined and being set to 0.0 in labels with no predicted samples. Use `zero_division` parameter to control this behavior.\n",
            "  _warn_prf(average, modifier, f\"{metric.capitalize()} is\", len(result))\n",
            "/usr/local/lib/python3.11/dist-packages/sklearn/metrics/_classification.py:1565: UndefinedMetricWarning: Precision is ill-defined and being set to 0.0 in labels with no predicted samples. Use `zero_division` parameter to control this behavior.\n",
            "  _warn_prf(average, modifier, f\"{metric.capitalize()} is\", len(result))\n",
            "/usr/local/lib/python3.11/dist-packages/sklearn/metrics/_classification.py:1565: UndefinedMetricWarning: Precision is ill-defined and being set to 0.0 in labels with no predicted samples. Use `zero_division` parameter to control this behavior.\n",
            "  _warn_prf(average, modifier, f\"{metric.capitalize()} is\", len(result))\n"
          ]
        }
      ],
      "source": [
        "#############################################################\n",
        "# 0. Instalasi & import library\n",
        "#############################################################\n",
        "# (uncomment kalau di Colab)\n",
        "# !pip install --quiet tensorflow pandas scikit-learn\n",
        "\n",
        "import tensorflow as tf\n",
        "import pandas as pd\n",
        "import numpy as np\n",
        "from sklearn.model_selection import train_test_split\n",
        "from sklearn.metrics import classification_report\n",
        "\n",
        "#############################################################\n",
        "# 1. Dataset mini – 24 berita (12 hoaks, 12 valid)\n",
        "#############################################################\n",
        "data = {\n",
        "    \"text\": [\n",
        "        # 12 HOAKS\n",
        "        \"Vaksin COVID-19 dapat membuat tubuh magnetis.\",\n",
        "        \"Makan bawang mentah tiap pagi bisa sembuhkan kanker secara total.\",\n",
        "        \"Kereta cepat Jakarta‑Bandung dibangun oleh Amerika Serikat.\",\n",
        "        \"WHO melarang semua orang minum kopi karena menyebabkan kebutaan.\",\n",
        "        \"Foto harimau berkeliaran di Malioboro Yogyakarta saat lockdown.\",\n",
        "        \"Rokok elektrik sama sekali tidak mengandung nikotin.\",\n",
        "        \"Bill Gates menanam chip pelacak di setiap vaksin.\",\n",
        "        \"Uang kertas baru Rp500.000 sudah beredar mulai Januari 2025.\",\n",
        "        \"Minum air es setelah makan membuat makanan berubah jadi lemak.\",\n",
        "        \"Pesawat komersial bisa terbang ke luar angkasa tanpa roket.\",\n",
        "        \"Ikan tongkol berbahaya karena mengandung formalin alami.\",\n",
        "        \"Aplikasi WhatsApp akan menutup semua akun gratis per 1 Agustus.\",\n",
        "        # 12 VALID\n",
        "        \"Pemerintah resmi menetapkan cuti bersama Idul Adha 1446 H.\",\n",
        "        \"Bank Indonesia kembali menahan suku bunga acuan di 6,25 %.\",\n",
        "        \"BMKG prediksi musim kemarau 2025 akan lebih kering akibat El Niño.\",\n",
        "        \"Timnas U‑23 Indonesia lolos ke semifinal Piala AFF.\",\n",
        "        \"Gubernur DKI resmikan 20 halte TransJakarta ramah disabilitas.\",\n",
        "        \"Universitas Indonesia buka program beasiswa doktor penuh biaya.\",\n",
        "        \"Tol Trans‑Sumatera ruas Pekanbaru‑Padang ditargetkan selesai 2027.\",\n",
        "        \"Peneliti ITB temukan material baterai berbasis nikel lebih murah.\",\n",
        "        \"Harga cabai rawit naik 15 % di pasar tradisional Yogyakarta.\",\n",
        "        \"OJK luncurkan aturan baru perlindungan nasabah bank digital.\",\n",
        "        \"Startup agritech lokal raih pendanaan Seri B senilai US$25 juta.\",\n",
        "        \"Kementerian Kesehatan dorong skrining TBC di 514 kabupaten/kota.\"\n",
        "    ],\n",
        "    \"label\": [0]*12 + [1]*12          # 0 = hoax, 1 = valid\n",
        "}\n",
        "\n",
        "df = pd.DataFrame(data)\n",
        "texts  = df.text.tolist()\n",
        "labels = df.label.values\n",
        "\n",
        "#############################################################\n",
        "# 2. Tokenisasi & padding\n",
        "#############################################################\n",
        "vocab_size = 5_000\n",
        "max_len    = 40      # cukup pendek, karena teks singkat\n",
        "\n",
        "tok = tf.keras.preprocessing.text.Tokenizer(num_words=vocab_size,\n",
        "                                            oov_token=\"<OOV>\")\n",
        "tok.fit_on_texts(texts)\n",
        "seqs = tok.texts_to_sequences(texts)\n",
        "X    = tf.keras.preprocessing.sequence.pad_sequences(\n",
        "          seqs, maxlen=max_len, padding=\"post\", truncating=\"post\")\n",
        "y = labels\n",
        "\n",
        "# Train / Val / Test 60‑20‑20\n",
        "X_tr, X_tmp, y_tr, y_tmp = train_test_split(\n",
        "    X, y, test_size=0.4, stratify=y, random_state=42)\n",
        "X_val, X_te, y_val, y_te = train_test_split(\n",
        "    X_tmp, y_tmp, test_size=0.5, stratify=y_tmp, random_state=42)\n",
        "\n",
        "#############################################################\n",
        "# 3. Arsitektur CNN\n",
        "#############################################################\n",
        "model = tf.keras.Sequential([\n",
        "    tf.keras.layers.Embedding(vocab_size, 64, input_length=max_len),\n",
        "    tf.keras.layers.Conv1D(64, 5, activation=\"relu\"),\n",
        "    tf.keras.layers.GlobalMaxPooling1D(),\n",
        "    tf.keras.layers.Dropout(0.4),\n",
        "    tf.keras.layers.Dense(32, activation=\"relu\"),\n",
        "    tf.keras.layers.Dense(1, activation=\"sigmoid\")\n",
        "])\n",
        "\n",
        "model.compile(loss=\"binary_crossentropy\",\n",
        "              optimizer=\"adam\",\n",
        "              metrics=[\"accuracy\"])\n",
        "model.summary()\n",
        "\n",
        "#############################################################\n",
        "# 4. Training\n",
        "#############################################################\n",
        "history = model.fit(\n",
        "    X_tr, y_tr,\n",
        "    epochs=20,\n",
        "    batch_size=4,\n",
        "    validation_data=(X_val, y_val),\n",
        "    verbose=2\n",
        ")\n",
        "\n",
        "#############################################################\n",
        "# 5. Evaluasi\n",
        "#############################################################\n",
        "print(\"\\n— Evaluasi Test Set —\")\n",
        "loss, acc = model.evaluate(X_te, y_te, verbose=0)\n",
        "print(f\"Akurasi : {acc:.3f}\")\n",
        "\n",
        "y_pred = (model.predict(X_te) > 0.5).astype(int)\n",
        "print(classification_report(y_te, y_pred, target_names=[\"Hoax\",\"Valid\"]))\n"
      ]
    }
  ]
}